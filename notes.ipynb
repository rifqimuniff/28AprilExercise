{
 "cells": [
  {
   "cell_type": "markdown",
   "id": "af5834c2",
   "metadata": {},
   "source": [
    "# My Notebook\n",
    "\n",
    "## Introduction\n",
    "- Name: Rifqi Munif Imanullah"
   ]
  },
  {
   "cell_type": "code",
   "execution_count": 2,
   "id": "292257c5",
   "metadata": {},
   "outputs": [
    {
     "name": "stdout",
     "output_type": "stream",
     "text": [
      "This code will be executed.\n"
     ]
    }
   ],
   "source": [
    "print(\"This code will be executed.\")"
   ]
  }
 ],
 "metadata": {
  "kernelspec": {
   "display_name": "[myproject]",
   "language": "python",
   "name": "python3"
  },
  "language_info": {
   "codemirror_mode": {
    "name": "ipython",
    "version": 3
   },
   "file_extension": ".py",
   "mimetype": "text/x-python",
   "name": "python",
   "nbconvert_exporter": "python",
   "pygments_lexer": "ipython3",
   "version": "3.13.2"
  }
 },
 "nbformat": 4,
 "nbformat_minor": 5
}
